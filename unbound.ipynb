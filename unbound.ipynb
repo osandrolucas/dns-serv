{
 "cells": [
  {
   "cell_type": "code",
   "execution_count": 1,
   "metadata": {},
   "outputs": [],
   "source": [
    "import pandas as pd"
   ]
  },
  {
   "cell_type": "markdown",
   "metadata": {},
   "source": [
    "### Lendo Log"
   ]
  },
  {
   "cell_type": "code",
   "execution_count": 2,
   "metadata": {},
   "outputs": [
    {
     "data": {
      "text/html": [
       "<div>\n",
       "<style scoped>\n",
       "    .dataframe tbody tr th:only-of-type {\n",
       "        vertical-align: middle;\n",
       "    }\n",
       "\n",
       "    .dataframe tbody tr th {\n",
       "        vertical-align: top;\n",
       "    }\n",
       "\n",
       "    .dataframe thead th {\n",
       "        text-align: right;\n",
       "    }\n",
       "</style>\n",
       "<table border=\"1\" class=\"dataframe\">\n",
       "  <thead>\n",
       "    <tr style=\"text-align: right;\">\n",
       "      <th></th>\n",
       "      <th>timestamp</th>\n",
       "      <th>unbound_code</th>\n",
       "      <th>infor</th>\n",
       "      <th>ip_dns</th>\n",
       "      <th>query_argument</th>\n",
       "      <th>query_type</th>\n",
       "      <th>query_class</th>\n",
       "      <th>response_status</th>\n",
       "      <th>query_time</th>\n",
       "      <th>dd</th>\n",
       "      <th>msg_size_rcvd</th>\n",
       "    </tr>\n",
       "  </thead>\n",
       "  <tbody>\n",
       "    <tr>\n",
       "      <th>0</th>\n",
       "      <td>1670554861</td>\n",
       "      <td>unbound[56651:1]</td>\n",
       "      <td>info:</td>\n",
       "      <td>127.0.0.1</td>\n",
       "      <td>google.com?.</td>\n",
       "      <td>A</td>\n",
       "      <td>IN</td>\n",
       "      <td>NaN</td>\n",
       "      <td>NaN</td>\n",
       "      <td>NaN</td>\n",
       "      <td>NaN</td>\n",
       "    </tr>\n",
       "    <tr>\n",
       "      <th>1</th>\n",
       "      <td>1670554861</td>\n",
       "      <td>unbound[56651:1]</td>\n",
       "      <td>info:</td>\n",
       "      <td>127.0.0.1</td>\n",
       "      <td>google.com?.</td>\n",
       "      <td>A</td>\n",
       "      <td>IN</td>\n",
       "      <td>NXDOMAIN</td>\n",
       "      <td>0.164186</td>\n",
       "      <td>0.0</td>\n",
       "      <td>115.0</td>\n",
       "    </tr>\n",
       "    <tr>\n",
       "      <th>2</th>\n",
       "      <td>1670554861</td>\n",
       "      <td>unbound[56651:1]</td>\n",
       "      <td>info:</td>\n",
       "      <td>127.0.0.1</td>\n",
       "      <td>youtube.com?.</td>\n",
       "      <td>A</td>\n",
       "      <td>IN</td>\n",
       "      <td>NaN</td>\n",
       "      <td>NaN</td>\n",
       "      <td>NaN</td>\n",
       "      <td>NaN</td>\n",
       "    </tr>\n",
       "    <tr>\n",
       "      <th>3</th>\n",
       "      <td>1670554861</td>\n",
       "      <td>unbound[56651:1]</td>\n",
       "      <td>info:</td>\n",
       "      <td>127.0.0.1</td>\n",
       "      <td>youtube.com?.</td>\n",
       "      <td>A</td>\n",
       "      <td>IN</td>\n",
       "      <td>NXDOMAIN</td>\n",
       "      <td>0.000000</td>\n",
       "      <td>1.0</td>\n",
       "      <td>116.0</td>\n",
       "    </tr>\n",
       "    <tr>\n",
       "      <th>4</th>\n",
       "      <td>1670554861</td>\n",
       "      <td>unbound[56651:2]</td>\n",
       "      <td>info:</td>\n",
       "      <td>127.0.0.1</td>\n",
       "      <td>facebook.com?.</td>\n",
       "      <td>A</td>\n",
       "      <td>IN</td>\n",
       "      <td>NaN</td>\n",
       "      <td>NaN</td>\n",
       "      <td>NaN</td>\n",
       "      <td>NaN</td>\n",
       "    </tr>\n",
       "  </tbody>\n",
       "</table>\n",
       "</div>"
      ],
      "text/plain": [
       "    timestamp      unbound_code  infor     ip_dns  query_argument query_type  \\\n",
       "0  1670554861  unbound[56651:1]  info:  127.0.0.1    google.com?.          A   \n",
       "1  1670554861  unbound[56651:1]  info:  127.0.0.1    google.com?.          A   \n",
       "2  1670554861  unbound[56651:1]  info:  127.0.0.1   youtube.com?.          A   \n",
       "3  1670554861  unbound[56651:1]  info:  127.0.0.1   youtube.com?.          A   \n",
       "4  1670554861  unbound[56651:2]  info:  127.0.0.1  facebook.com?.          A   \n",
       "\n",
       "  query_class response_status  query_time   dd  msg_size_rcvd  \n",
       "0          IN             NaN         NaN  NaN            NaN  \n",
       "1          IN        NXDOMAIN    0.164186  0.0          115.0  \n",
       "2          IN             NaN         NaN  NaN            NaN  \n",
       "3          IN        NXDOMAIN    0.000000  1.0          116.0  \n",
       "4          IN             NaN         NaN  NaN            NaN  "
      ]
     },
     "execution_count": 2,
     "metadata": {},
     "output_type": "execute_result"
    }
   ],
   "source": [
    "colnames=['timestamp', 'unbound_code', 'infor', 'ip_dns', 'query_argument', 'query_type', 'query_class', 'response_status', 'query_time', 'dd', 'msg_size_rcvd'] \n",
    "data = pd.read_csv(\"data/unbound.log.1\", sep = \" \", names = colnames)\n",
    "data['timestamp'] = data['timestamp'].astype(str).str.replace(r'\\[|\\]|,', '')\n",
    "data.head()"
   ]
  },
  {
   "cell_type": "code",
   "execution_count": 3,
   "metadata": {},
   "outputs": [
    {
     "data": {
      "text/plain": [
       "timestamp          3642\n",
       "unbound_code       3642\n",
       "infor              3642\n",
       "ip_dns             3642\n",
       "query_argument     3500\n",
       "query_type         3642\n",
       "query_class        3642\n",
       "response_status    1892\n",
       "query_time         1892\n",
       "dd                 1892\n",
       "msg_size_rcvd      1892\n",
       "dtype: int64"
      ]
     },
     "execution_count": 3,
     "metadata": {},
     "output_type": "execute_result"
    }
   ],
   "source": [
    "data.count()"
   ]
  },
  {
   "cell_type": "markdown",
   "metadata": {},
   "source": [
    "### Filtros necessários"
   ]
  },
  {
   "cell_type": "code",
   "execution_count": 4,
   "metadata": {},
   "outputs": [
    {
     "data": {
      "text/html": [
       "<div>\n",
       "<style scoped>\n",
       "    .dataframe tbody tr th:only-of-type {\n",
       "        vertical-align: middle;\n",
       "    }\n",
       "\n",
       "    .dataframe tbody tr th {\n",
       "        vertical-align: top;\n",
       "    }\n",
       "\n",
       "    .dataframe thead th {\n",
       "        text-align: right;\n",
       "    }\n",
       "</style>\n",
       "<table border=\"1\" class=\"dataframe\">\n",
       "  <thead>\n",
       "    <tr style=\"text-align: right;\">\n",
       "      <th></th>\n",
       "      <th>timestamp</th>\n",
       "      <th>ip_dns</th>\n",
       "      <th>query_argument</th>\n",
       "      <th>query_time</th>\n",
       "    </tr>\n",
       "  </thead>\n",
       "  <tbody>\n",
       "    <tr>\n",
       "      <th>1</th>\n",
       "      <td>1670554861</td>\n",
       "      <td>127.0.0.1</td>\n",
       "      <td>google.com?.</td>\n",
       "      <td>0.164186</td>\n",
       "    </tr>\n",
       "    <tr>\n",
       "      <th>3</th>\n",
       "      <td>1670554861</td>\n",
       "      <td>127.0.0.1</td>\n",
       "      <td>youtube.com?.</td>\n",
       "      <td>0.000000</td>\n",
       "    </tr>\n",
       "    <tr>\n",
       "      <th>5</th>\n",
       "      <td>1670554861</td>\n",
       "      <td>127.0.0.1</td>\n",
       "      <td>facebook.com?.</td>\n",
       "      <td>0.000000</td>\n",
       "    </tr>\n",
       "    <tr>\n",
       "      <th>7</th>\n",
       "      <td>1670554861</td>\n",
       "      <td>127.0.0.1</td>\n",
       "      <td>a-msedge.net?.</td>\n",
       "      <td>0.000000</td>\n",
       "    </tr>\n",
       "    <tr>\n",
       "      <th>9</th>\n",
       "      <td>1670554861</td>\n",
       "      <td>127.0.0.1</td>\n",
       "      <td>microsoft.com?.</td>\n",
       "      <td>0.000000</td>\n",
       "    </tr>\n",
       "  </tbody>\n",
       "</table>\n",
       "</div>"
      ],
      "text/plain": [
       "    timestamp     ip_dns   query_argument  query_time\n",
       "1  1670554861  127.0.0.1     google.com?.    0.164186\n",
       "3  1670554861  127.0.0.1    youtube.com?.    0.000000\n",
       "5  1670554861  127.0.0.1   facebook.com?.    0.000000\n",
       "7  1670554861  127.0.0.1   a-msedge.net?.    0.000000\n",
       "9  1670554861  127.0.0.1  microsoft.com?.    0.000000"
      ]
     },
     "execution_count": 4,
     "metadata": {},
     "output_type": "execute_result"
    }
   ],
   "source": [
    "dataframe = data.query(\"ip_dns == '127.0.0.1' and response_status in ('NOERROR', 'NXDOMAIN')\")\n",
    "dataframe = dataframe[[\"timestamp\",\"ip_dns\",\"query_argument\", \"query_time\"]]\n",
    "dataframe.head()"
   ]
  },
  {
   "cell_type": "code",
   "execution_count": 5,
   "metadata": {},
   "outputs": [
    {
     "data": {
      "text/plain": [
       "ip_dns\n",
       "127.0.0.1    1750\n",
       "Name: query_argument, dtype: int64"
      ]
     },
     "execution_count": 5,
     "metadata": {},
     "output_type": "execute_result"
    }
   ],
   "source": [
    "#dataframe['response_status'].unique()\n",
    "dataframe.groupby(['ip_dns'])['query_argument'].count()"
   ]
  },
  {
   "cell_type": "code",
   "execution_count": 6,
   "metadata": {},
   "outputs": [
    {
     "data": {
      "text/plain": [
       "ip_dns\n",
       "127.0.0.1    1750\n",
       "Name: ip_dns, dtype: int64"
      ]
     },
     "execution_count": 6,
     "metadata": {},
     "output_type": "execute_result"
    }
   ],
   "source": [
    "#dataframe['response_status'].unique()\n",
    "dataframe.groupby(['ip_dns'])['ip_dns'].count()"
   ]
  },
  {
   "cell_type": "code",
   "execution_count": 7,
   "metadata": {},
   "outputs": [
    {
     "data": {
      "text/plain": [
       "timestamp           int64\n",
       "ip_dns             object\n",
       "query_argument     object\n",
       "query_time        float64\n",
       "dtype: object"
      ]
     },
     "execution_count": 7,
     "metadata": {},
     "output_type": "execute_result"
    }
   ],
   "source": [
    "dataframe = dataframe.astype({\"timestamp\":\"int64\",\"query_time\":\"double\"})\n",
    "dataframe.dtypes"
   ]
  },
  {
   "cell_type": "code",
   "execution_count": 8,
   "metadata": {},
   "outputs": [
    {
     "data": {
      "text/html": [
       "<div>\n",
       "<style scoped>\n",
       "    .dataframe tbody tr th:only-of-type {\n",
       "        vertical-align: middle;\n",
       "    }\n",
       "\n",
       "    .dataframe tbody tr th {\n",
       "        vertical-align: top;\n",
       "    }\n",
       "\n",
       "    .dataframe thead th {\n",
       "        text-align: right;\n",
       "    }\n",
       "</style>\n",
       "<table border=\"1\" class=\"dataframe\">\n",
       "  <thead>\n",
       "    <tr style=\"text-align: right;\">\n",
       "      <th></th>\n",
       "      <th>timestamp</th>\n",
       "      <th>ip_dns</th>\n",
       "      <th>query_argument</th>\n",
       "      <th>query_time</th>\n",
       "      <th>datetime</th>\n",
       "      <th>date</th>\n",
       "    </tr>\n",
       "  </thead>\n",
       "  <tbody>\n",
       "    <tr>\n",
       "      <th>1</th>\n",
       "      <td>1670554861</td>\n",
       "      <td>127.0.0.1</td>\n",
       "      <td>google.com?.</td>\n",
       "      <td>0.164186</td>\n",
       "      <td>2022-12-09 03:01:01</td>\n",
       "      <td>9</td>\n",
       "    </tr>\n",
       "    <tr>\n",
       "      <th>3</th>\n",
       "      <td>1670554861</td>\n",
       "      <td>127.0.0.1</td>\n",
       "      <td>youtube.com?.</td>\n",
       "      <td>0.000000</td>\n",
       "      <td>2022-12-09 03:01:01</td>\n",
       "      <td>9</td>\n",
       "    </tr>\n",
       "    <tr>\n",
       "      <th>5</th>\n",
       "      <td>1670554861</td>\n",
       "      <td>127.0.0.1</td>\n",
       "      <td>facebook.com?.</td>\n",
       "      <td>0.000000</td>\n",
       "      <td>2022-12-09 03:01:01</td>\n",
       "      <td>9</td>\n",
       "    </tr>\n",
       "    <tr>\n",
       "      <th>7</th>\n",
       "      <td>1670554861</td>\n",
       "      <td>127.0.0.1</td>\n",
       "      <td>a-msedge.net?.</td>\n",
       "      <td>0.000000</td>\n",
       "      <td>2022-12-09 03:01:01</td>\n",
       "      <td>9</td>\n",
       "    </tr>\n",
       "    <tr>\n",
       "      <th>9</th>\n",
       "      <td>1670554861</td>\n",
       "      <td>127.0.0.1</td>\n",
       "      <td>microsoft.com?.</td>\n",
       "      <td>0.000000</td>\n",
       "      <td>2022-12-09 03:01:01</td>\n",
       "      <td>9</td>\n",
       "    </tr>\n",
       "  </tbody>\n",
       "</table>\n",
       "</div>"
      ],
      "text/plain": [
       "    timestamp     ip_dns   query_argument  query_time            datetime  \\\n",
       "1  1670554861  127.0.0.1     google.com?.    0.164186 2022-12-09 03:01:01   \n",
       "3  1670554861  127.0.0.1    youtube.com?.    0.000000 2022-12-09 03:01:01   \n",
       "5  1670554861  127.0.0.1   facebook.com?.    0.000000 2022-12-09 03:01:01   \n",
       "7  1670554861  127.0.0.1   a-msedge.net?.    0.000000 2022-12-09 03:01:01   \n",
       "9  1670554861  127.0.0.1  microsoft.com?.    0.000000 2022-12-09 03:01:01   \n",
       "\n",
       "   date  \n",
       "1     9  \n",
       "3     9  \n",
       "5     9  \n",
       "7     9  \n",
       "9     9  "
      ]
     },
     "execution_count": 8,
     "metadata": {},
     "output_type": "execute_result"
    }
   ],
   "source": [
    "dataframe['datetime'] = pd.to_datetime(dataframe['timestamp'],unit='s')\n",
    "dataframe['date'] = dataframe['datetime'].dt.day\n",
    "dataframe.head()"
   ]
  },
  {
   "cell_type": "code",
   "execution_count": 11,
   "metadata": {},
   "outputs": [
    {
     "name": "stdout",
     "output_type": "stream",
     "text": [
      "date\n",
      "9     1651\n",
      "10      99\n",
      "Name: query_argument, dtype: int64\n"
     ]
    },
    {
     "data": {
      "text/plain": [
       "<matplotlib.axes._subplots.AxesSubplot at 0x2063a0c9978>"
      ]
     },
     "execution_count": 11,
     "metadata": {},
     "output_type": "execute_result"
    },
    {
     "data": {
      "image/png": "[encoded data removed]",
      "text/plain": [
       "<matplotlib.figure.Figure at 0x2063a0b54e0>"
      ]
     },
     "metadata": {},
     "output_type": "display_data"
    }
   ],
   "source": [
    "dns_per_day = dataframe.groupby(['date'])['query_argument'].count()\n",
    "print(dns_per_day)\n",
    "dns_per_day.plot(x='date', \n",
    "                kind='bar',\n",
    "                rot=0,\n",
    "                title='dns resolution per day',\n",
    "                color=[(240/255,83/255,101/255), (250/255,188/255,42/255)],\n",
    "                stacked=True,\n",
    "                figsize=(10,4)\n",
    "                )"
   ]
  },
  {
   "cell_type": "code",
   "execution_count": 12,
   "metadata": {},
   "outputs": [
    {
     "data": {
      "text/plain": [
       "query_argument\n",
       "google.com?.       20\n",
       "mail.ru?.          18\n",
       "microsoft.com?.    18\n",
       "s-msedge.net?.     18\n",
       "reddit.com?.       18\n",
       "Name: date, dtype: int64"
      ]
     },
     "execution_count": 12,
     "metadata": {},
     "output_type": "execute_result"
    }
   ],
   "source": [
    "teste = dataframe.groupby(['query_argument'])['date'].count()\n",
    "teste.sort_values(ascending=[False]).head()"
   ]
  },
  {
   "cell_type": "code",
   "execution_count": null,
   "metadata": {},
   "outputs": [],
   "source": []
  }
 ],
 "metadata": {
  "kernelspec": {
   "display_name": "Python 3",
   "language": "python",
   "name": "python3"
  },
  "language_info": {
   "codemirror_mode": {
    "name": "ipython",
    "version": 3
   },
   "file_extension": ".py",
   "mimetype": "text/x-python",
   "name": "python",
   "nbconvert_exporter": "python",
   "pygments_lexer": "ipython3",
   "version": "3.6.4"
  }
 },
 "nbformat": 4,
 "nbformat_minor": 2
}
